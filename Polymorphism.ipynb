{
 "cells": [
  {
   "cell_type": "code",
   "execution_count": 1,
   "id": "342e66ee-ed30-47ee-957d-3bffa7bb6dc4",
   "metadata": {},
   "outputs": [
    {
     "name": "stdout",
     "output_type": "stream",
     "text": [
      "Birds cam fly\n",
      "But penguins can't fly\n"
     ]
    }
   ],
   "source": [
    "class bird:\n",
    "    def fly(self):\n",
    "        print(\"Birds cam fly\")\n",
    "class penguin(bird):\n",
    "    def fly(self):\n",
    "        print(\"But penguins can't fly\")\n",
    "a=bird()\n",
    "b=penguin()\n",
    "a.fly()\n",
    "b.fly()"
   ]
  },
  {
   "cell_type": "markdown",
   "id": "69c7e69c-deea-40f5-a365-8e1b70168412",
   "metadata": {},
   "source": [
    "Write a Python program to demonstrate polymorphism where two different classes have the same method name, and a common function calls those methods.\r\n"
   ]
  },
  {
   "cell_type": "code",
   "execution_count": 1,
   "id": "bc9a3ad1-a33a-4b1e-b57c-ed25419f406e",
   "metadata": {},
   "outputs": [
    {
     "name": "stdout",
     "output_type": "stream",
     "text": [
      "Maruti suzuki alto\n",
      "Mahindra XUV700\n"
     ]
    }
   ],
   "source": [
    "class Car:\n",
    "    def type(self):\n",
    "        print(\"Maruti suzuki alto\")\n",
    "class same(Car):\n",
    "    def type(self):\n",
    "        print(\"Mahindra XUV700\")\n",
    "a=Car()\n",
    "b=same()\n",
    "a.type()\n",
    "b.type()"
   ]
  },
  {
   "cell_type": "markdown",
   "id": "452aaccb-1ac6-4309-8d90-ab3d7b1461ee",
   "metadata": {},
   "source": [
    "Create a base class Vehicle with a method speed(). Then, create a derived class Car that overrides the speed() method."
   ]
  },
  {
   "cell_type": "code",
   "execution_count": 3,
   "id": "e101496a-90ff-4d08-9ed8-a14d1cb5c7dd",
   "metadata": {},
   "outputs": [
    {
     "name": "stdout",
     "output_type": "stream",
     "text": [
      "Speed is 150km\n"
     ]
    }
   ],
   "source": [
    "class Vehicle:\n",
    "    def speed(self):\n",
    "        print(\"Speeed is 80km\")\n",
    "class Car(Vehicle):\n",
    "    def speed(self):\n",
    "        print(\"Speed is 150km\")\n",
    "a=Vehicle()\n",
    "b=Car()\n",
    "b.speed()"
   ]
  },
  {
   "cell_type": "markdown",
   "id": "f34a6068-686e-4dde-b394-dc4671b1aa4c",
   "metadata": {},
   "source": [
    "Create a class Box that overloads the + operator to add the volume of two boxes."
   ]
  },
  {
   "cell_type": "code",
   "execution_count": 6,
   "id": "942974c1-6bad-4bf9-914a-5f6dff7a7626",
   "metadata": {},
   "outputs": [
    {
     "name": "stdout",
     "output_type": "stream",
     "text": [
      "Both volumes summation is: 85\n"
     ]
    }
   ],
   "source": [
    "class Box:\n",
    "    def __init__(self, volume):\n",
    "        self.volume = volume\n",
    "\n",
    "class NewBox(Box):\n",
    "    def __init__(self, volume1):\n",
    "        self.volume1 = volume1\n",
    "\n",
    "    def area(self, Box):\n",
    "        print(f\"Both volumes summation is: {self.volume1 + Box.volume}\")\n",
    "a = Box(40)\n",
    "b = NewBox(45)\n",
    "b.area(a)"
   ]
  },
  {
   "cell_type": "code",
   "execution_count": null,
   "id": "aefac4bd-6872-49f1-ba25-9ca0fe7d1d3b",
   "metadata": {},
   "outputs": [],
   "source": []
  }
 ],
 "metadata": {
  "kernelspec": {
   "display_name": "Python 3 (ipykernel)",
   "language": "python",
   "name": "python3"
  },
  "language_info": {
   "codemirror_mode": {
    "name": "ipython",
    "version": 3
   },
   "file_extension": ".py",
   "mimetype": "text/x-python",
   "name": "python",
   "nbconvert_exporter": "python",
   "pygments_lexer": "ipython3",
   "version": "3.12.7"
  }
 },
 "nbformat": 4,
 "nbformat_minor": 5
}
