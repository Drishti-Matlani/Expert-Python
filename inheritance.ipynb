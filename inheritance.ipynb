{
 "cells": [
  {
   "cell_type": "code",
   "execution_count": 1,
   "id": "45d63e8a-adfe-4d3e-b67c-e5cbdfb4787c",
   "metadata": {},
   "outputs": [
    {
     "name": "stdout",
     "output_type": "stream",
     "text": [
      "q5 audi 45kwh\n"
     ]
    }
   ],
   "source": [
    "#Create an ElectricCar class that inherits from the Car class and includes an additional attribute, battery_size.\n",
    "class car:\n",
    "    def __init__(self, model,brand):\n",
    "        self.model = model\n",
    "        self.brand = brand\n",
    "class type(car):\n",
    "    def __init__(self,model,brand,battery_size):\n",
    "        super().__init__(model,brand)\n",
    "        self.battery_size=battery_size\n",
    "car1=type(\"q5\",\"audi\",\"45kwh\")\n",
    "print(car1.model,car1.brand,car1.battery_size)"
   ]
  },
  {
   "cell_type": "code",
   "execution_count": 3,
   "id": "35299e8a-e91f-40ba-b45a-86fb25b146d9",
   "metadata": {},
   "outputs": [
    {
     "name": "stdout",
     "output_type": "stream",
     "text": [
      "dell i-type 12hrs\n"
     ]
    }
   ],
   "source": [
    "#Create a Laptop class that inherits from a Computer class and includes an additional attribute battery_life\n",
    "class laptop:\n",
    "    def __init__(self,brand,proccessor):\n",
    "        self.brand=brand\n",
    "        self.proccessor=proccessor\n",
    "class battery(laptop):\n",
    "    def __init__(self,brand,proccessor,battery_life):\n",
    "        super().__init__(brand,proccessor)\n",
    "        self.battery_life=battery_life\n",
    "s1=battery(\"dell\",\"i-type\",\"12hrs\")\n",
    "print(s1.brand,s1.proccessor,s1.battery_life)"
   ]
  },
  {
   "cell_type": "code",
   "execution_count": 5,
   "id": "d98f025a-3cf7-46bd-be88-00e8e0fe052b",
   "metadata": {},
   "outputs": [
    {
     "name": "stdout",
     "output_type": "stream",
     "text": [
      "iphone 13 125gb apple\n"
     ]
    }
   ],
   "source": [
    "#Define a Smartphone class and add another child class of your choice that inherits from an ElectronicDevice class\n",
    "#and includes an additional attribute operating_system\n",
    "class smartphone():\n",
    "    def __init__(self,brand,storage):\n",
    "        self.brand=brand\n",
    "        self.storage=storage\n",
    "class device(smartphone):\n",
    "    def __init__(self,brand,storage,os):\n",
    "        super().__init__(brand,storage)\n",
    "        self.os=os\n",
    "x=device(\"iphone 13\",\"125gb\",\"apple\")\n",
    "print(x.brand,x.storage,x.os)"
   ]
  },
  {
   "cell_type": "code",
   "execution_count": 7,
   "id": "b13de7d6-a624-463c-8b7f-d04266ac6fa8",
   "metadata": {},
   "outputs": [
    {
     "name": "stdout",
     "output_type": "stream",
     "text": [
      "ravi shanker 61 harmonium\n",
      "sunidhi chauhan 45 tabla\n"
     ]
    }
   ],
   "source": [
    "#Define a Musician class and add another child class of your choice that extends an Artist class and includes an \n",
    "#additional attribute instrument_played\n",
    "class musician():\n",
    "    def __init__(self,name,age):\n",
    "        self.name=name\n",
    "        self.age=age\n",
    "class artist(musician):\n",
    "    def __init__(self,name,age,play):\n",
    "        super().__init__(name,age)\n",
    "        self.play=play\n",
    "x= artist(\"ravi shanker\",61,\"harmonium\")\n",
    "print(x.name,x.age,x.play)\n",
    "x2= artist(\"sunidhi chauhan\",45,\"tabla\")\n",
    "print(x2.name,x2.age,x2.play)"
   ]
  },
  {
   "cell_type": "code",
   "execution_count": 11,
   "id": "3e6e1950-c5cc-4fc3-b77c-61096ee6d665",
   "metadata": {},
   "outputs": [
    {
     "name": "stdout",
     "output_type": "stream",
     "text": [
      "jane austen pride and prejudice serial\n"
     ]
    }
   ],
   "source": [
    "#Implement a FictionBook class, add another child class of your choice that inherits from a Book class and add an attribute genre\n",
    "class fictionbook:\n",
    "    def __init__(self,writer,name):\n",
    "        self.writer=writer\n",
    "        self.name=name\n",
    "class book(fictionbook):\n",
    "    def __init__(self,writer,name,genre):\n",
    "        super().__init__(writer,name)\n",
    "        self.genre=genre\n",
    "s1=book(\"jane austen\", \"pride and prejudice\",\"serial\")\n",
    "print(s1.writer,s1.name,s1.genre)"
   ]
  },
  {
   "cell_type": "code",
   "execution_count": 13,
   "id": "c32b084b-e87d-4b62-ae36-6c7d71476daf",
   "metadata": {},
   "outputs": [
    {
     "name": "stdout",
     "output_type": "stream",
     "text": [
      "total marks =>174 and it's average is 58.0\n"
     ]
    }
   ],
   "source": [
    "#Create a student class that takes the name & marks of 3 subjects as arguments in the constructor. \n",
    "#Then create a method to print the average\n",
    "class student:\n",
    "    def __init__(self,name,marks1,marks2,marks3):\n",
    "        self.name=name\n",
    "        self.marks=[marks1,marks2,marks3]\n",
    "a1=student(\"drishti\",63,45,66)\n",
    "total=sum(a1.marks)\n",
    "length=len(a1.marks)\n",
    "average=total/length\n",
    "print(f\"total marks =>{total} and it's average is {average}\")"
   ]
  },
  {
   "cell_type": "code",
   "execution_count": null,
   "id": "076d689f-0f70-4f73-83a3-df6b3e6b7281",
   "metadata": {},
   "outputs": [],
   "source": []
  }
 ],
 "metadata": {
  "kernelspec": {
   "display_name": "Python 3 (ipykernel)",
   "language": "python",
   "name": "python3"
  },
  "language_info": {
   "codemirror_mode": {
    "name": "ipython",
    "version": 3
   },
   "file_extension": ".py",
   "mimetype": "text/x-python",
   "name": "python",
   "nbconvert_exporter": "python",
   "pygments_lexer": "ipython3",
   "version": "3.12.4"
  }
 },
 "nbformat": 4,
 "nbformat_minor": 5
}
